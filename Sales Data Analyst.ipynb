{
 "cells": [
  {
   "cell_type": "code",
   "execution_count": 5,
   "id": "5ebb196e-9dce-4741-8a67-53987fae7513",
   "metadata": {},
   "outputs": [
    {
     "data": {
      "text/html": [
       "<div>\n",
       "<style scoped>\n",
       "    .dataframe tbody tr th:only-of-type {\n",
       "        vertical-align: middle;\n",
       "    }\n",
       "\n",
       "    .dataframe tbody tr th {\n",
       "        vertical-align: top;\n",
       "    }\n",
       "\n",
       "    .dataframe thead th {\n",
       "        text-align: right;\n",
       "    }\n",
       "</style>\n",
       "<table border=\"1\" class=\"dataframe\">\n",
       "  <thead>\n",
       "    <tr style=\"text-align: right;\">\n",
       "      <th></th>\n",
       "      <th>Unnamed: 0</th>\n",
       "      <th>Order ID</th>\n",
       "      <th>Product</th>\n",
       "      <th>Quantity Ordered</th>\n",
       "      <th>Price Each</th>\n",
       "      <th>Order Date</th>\n",
       "      <th>Purchase Address</th>\n",
       "      <th>Month</th>\n",
       "      <th>Sales</th>\n",
       "      <th>City</th>\n",
       "      <th>Hour</th>\n",
       "    </tr>\n",
       "  </thead>\n",
       "  <tbody>\n",
       "    <tr>\n",
       "      <th>0</th>\n",
       "      <td>0</td>\n",
       "      <td>295665</td>\n",
       "      <td>Macbook Pro Laptop</td>\n",
       "      <td>1</td>\n",
       "      <td>1700.00</td>\n",
       "      <td>2019-12-30 00:01:00</td>\n",
       "      <td>136 Church St, New York City, NY 10001</td>\n",
       "      <td>12</td>\n",
       "      <td>1700.00</td>\n",
       "      <td>New York City</td>\n",
       "      <td>0</td>\n",
       "    </tr>\n",
       "    <tr>\n",
       "      <th>1</th>\n",
       "      <td>1</td>\n",
       "      <td>295666</td>\n",
       "      <td>LG Washing Machine</td>\n",
       "      <td>1</td>\n",
       "      <td>600.00</td>\n",
       "      <td>2019-12-29 07:03:00</td>\n",
       "      <td>562 2nd St, New York City, NY 10001</td>\n",
       "      <td>12</td>\n",
       "      <td>600.00</td>\n",
       "      <td>New York City</td>\n",
       "      <td>7</td>\n",
       "    </tr>\n",
       "    <tr>\n",
       "      <th>2</th>\n",
       "      <td>2</td>\n",
       "      <td>295667</td>\n",
       "      <td>USB-C Charging Cable</td>\n",
       "      <td>1</td>\n",
       "      <td>11.95</td>\n",
       "      <td>2019-12-12 18:21:00</td>\n",
       "      <td>277 Main St, New York City, NY 10001</td>\n",
       "      <td>12</td>\n",
       "      <td>11.95</td>\n",
       "      <td>New York City</td>\n",
       "      <td>18</td>\n",
       "    </tr>\n",
       "    <tr>\n",
       "      <th>3</th>\n",
       "      <td>3</td>\n",
       "      <td>295668</td>\n",
       "      <td>27in FHD Monitor</td>\n",
       "      <td>1</td>\n",
       "      <td>149.99</td>\n",
       "      <td>2019-12-22 15:13:00</td>\n",
       "      <td>410 6th St, San Francisco, CA 94016</td>\n",
       "      <td>12</td>\n",
       "      <td>149.99</td>\n",
       "      <td>San Francisco</td>\n",
       "      <td>15</td>\n",
       "    </tr>\n",
       "    <tr>\n",
       "      <th>4</th>\n",
       "      <td>4</td>\n",
       "      <td>295669</td>\n",
       "      <td>USB-C Charging Cable</td>\n",
       "      <td>1</td>\n",
       "      <td>11.95</td>\n",
       "      <td>2019-12-18 12:38:00</td>\n",
       "      <td>43 Hill St, Atlanta, GA 30301</td>\n",
       "      <td>12</td>\n",
       "      <td>11.95</td>\n",
       "      <td>Atlanta</td>\n",
       "      <td>12</td>\n",
       "    </tr>\n",
       "  </tbody>\n",
       "</table>\n",
       "</div>"
      ],
      "text/plain": [
       "   Unnamed: 0  Order ID               Product  Quantity Ordered  Price Each  \\\n",
       "0           0    295665    Macbook Pro Laptop                 1     1700.00   \n",
       "1           1    295666    LG Washing Machine                 1      600.00   \n",
       "2           2    295667  USB-C Charging Cable                 1       11.95   \n",
       "3           3    295668      27in FHD Monitor                 1      149.99   \n",
       "4           4    295669  USB-C Charging Cable                 1       11.95   \n",
       "\n",
       "            Order Date                        Purchase Address  Month  \\\n",
       "0  2019-12-30 00:01:00  136 Church St, New York City, NY 10001     12   \n",
       "1  2019-12-29 07:03:00     562 2nd St, New York City, NY 10001     12   \n",
       "2  2019-12-12 18:21:00    277 Main St, New York City, NY 10001     12   \n",
       "3  2019-12-22 15:13:00     410 6th St, San Francisco, CA 94016     12   \n",
       "4  2019-12-18 12:38:00           43 Hill St, Atlanta, GA 30301     12   \n",
       "\n",
       "     Sales            City  Hour  \n",
       "0  1700.00   New York City     0  \n",
       "1   600.00   New York City     7  \n",
       "2    11.95   New York City    18  \n",
       "3   149.99   San Francisco    15  \n",
       "4    11.95         Atlanta    12  "
      ]
     },
     "execution_count": 5,
     "metadata": {},
     "output_type": "execute_result"
    }
   ],
   "source": [
    "import pandas as pd\n",
    "\n",
    "# Load the dataset\n",
    "file_path = 'Sales Data.csv'\n",
    "sales_data = pd.read_csv(file_path)\n",
    "\n",
    "# Display the first few rows of the dataset\n",
    "sales_data.head()\n"
   ]
  },
  {
   "cell_type": "markdown",
   "id": "267b340b-44ed-4ae1-a793-ab14c8718ae1",
   "metadata": {},
   "source": [
    "# Summary Statistics with describe()"
   ]
  },
  {
   "cell_type": "code",
   "execution_count": 12,
   "id": "5d278c50-f336-480a-a449-371509537e86",
   "metadata": {},
   "outputs": [
    {
     "name": "stdout",
     "output_type": "stream",
     "text": [
      "          Unnamed: 0       Order ID  Quantity Ordered     Price Each  \\\n",
      "count  185950.000000  185950.000000     185950.000000  185950.000000   \n",
      "mean     8340.388475  230417.569379          1.124383     184.399735   \n",
      "std      5450.554093   51512.737110          0.442793     332.731330   \n",
      "min         0.000000  141234.000000          1.000000       2.990000   \n",
      "25%      3894.000000  185831.250000          1.000000      11.950000   \n",
      "50%      7786.000000  230367.500000          1.000000      14.950000   \n",
      "75%     11872.000000  275035.750000          1.000000     150.000000   \n",
      "max     25116.000000  319670.000000          9.000000    1700.000000   \n",
      "\n",
      "               Month          Sales           Hour  \n",
      "count  185950.000000  185950.000000  185950.000000  \n",
      "mean        7.059140     185.490917      14.413305  \n",
      "std         3.502996     332.919771       5.423416  \n",
      "min         1.000000       2.990000       0.000000  \n",
      "25%         4.000000      11.950000      11.000000  \n",
      "50%         7.000000      14.950000      15.000000  \n",
      "75%        10.000000     150.000000      19.000000  \n",
      "max        12.000000    3400.000000      23.000000  \n"
     ]
    }
   ],
   "source": [
    "# Summary statistics of numerical columns\n",
    "summary_statistics = sales_data.describe()\n",
    "print(summary_statistics)"
   ]
  },
  {
   "cell_type": "markdown",
   "id": "05c25ad8-08f2-438e-a982-ccad3ab223b0",
   "metadata": {},
   "source": [
    "# Unique Values with nunique()"
   ]
  },
  {
   "cell_type": "code",
   "execution_count": 14,
   "id": "dae324f7-3b40-4b86-8172-2931f4222b2c",
   "metadata": {},
   "outputs": [
    {
     "name": "stdout",
     "output_type": "stream",
     "text": [
      "Order ID            178437\n",
      "Product                 19\n",
      "Purchase Address    140787\n",
      "City                     9\n",
      "dtype: int64\n"
     ]
    }
   ],
   "source": [
    "# Number of unique values in categorical columns\n",
    "unique_values = sales_data[['Order ID', 'Product', 'Purchase Address', 'City']].nunique()\n",
    "print(unique_values)"
   ]
  },
  {
   "cell_type": "markdown",
   "id": "2b37dbb0-4ca4-4626-8942-3fb35352e833",
   "metadata": {},
   "source": [
    "# Value Counts with 'value_counts()'"
   ]
  },
  {
   "cell_type": "code",
   "execution_count": 20,
   "id": "e1d1e2d2-006b-418c-92ce-b59fd188e800",
   "metadata": {},
   "outputs": [
    {
     "name": "stdout",
     "output_type": "stream",
     "text": [
      "Product\n",
      "USB-C Charging Cable          21903\n",
      "Lightning Charging Cable      21658\n",
      "AAA Batteries (4-pack)        20641\n",
      "AA Batteries (4-pack)         20577\n",
      "Wired Headphones              18882\n",
      "Apple Airpods Headphones      15549\n",
      "Bose SoundSport Headphones    13325\n",
      "27in FHD Monitor               7507\n",
      "iPhone                         6842\n",
      "27in 4K Gaming Monitor         6230\n",
      "Name: count, dtype: int64\n"
     ]
    }
   ],
   "source": [
    "# Frequency of different products sold\n",
    "product_counts = sales_data['Product'].value_counts()\n",
    "print(product_counts.head(10))"
   ]
  },
  {
   "cell_type": "markdown",
   "id": "944b976b-b299-4869-8131-1571771d2c3b",
   "metadata": {},
   "source": [
    "# Calculate total sales"
   ]
  },
  {
   "cell_type": "code",
   "execution_count": 33,
   "id": "09584fda-0184-4d20-a55d-2fa7dc41f138",
   "metadata": {},
   "outputs": [
    {
     "name": "stdout",
     "output_type": "stream",
     "text": [
      "Total Sales: $ 34492035.97\n"
     ]
    }
   ],
   "source": [
    "total_sales = sales_data['Sales'].sum()\n",
    "print(\"Total Sales: $\", total_sales)"
   ]
  },
  {
   "cell_type": "markdown",
   "id": "b8628d31-6781-47fc-98ac-7e1afae94975",
   "metadata": {},
   "source": [
    "# Average Sales Price by Product"
   ]
  },
  {
   "cell_type": "code",
   "execution_count": 22,
   "id": "fe63e394-4b96-4de8-abbc-609be5156d03",
   "metadata": {},
   "outputs": [
    {
     "name": "stdout",
     "output_type": "stream",
     "text": [
      "Product\n",
      "Macbook Pro Laptop        1700.00\n",
      "ThinkPad Laptop            999.99\n",
      "iPhone                     700.00\n",
      "LG Dryer                   600.00\n",
      "LG Washing Machine         600.00\n",
      "Google Phone               600.00\n",
      "Vareebadd Phone            400.00\n",
      "27in 4K Gaming Monitor     389.99\n",
      "34in Ultrawide Monitor     379.99\n",
      "Flatscreen TV              300.00\n",
      "Name: Price Each, dtype: float64\n"
     ]
    }
   ],
   "source": [
    "# Average sales price by product\n",
    "average_price_by_product = sales_data.groupby('Product')['Price Each'].mean().sort_values(ascending=False)\n",
    "print(average_price_by_product.head(10))"
   ]
  },
  {
   "cell_type": "markdown",
   "id": "5a033aa8-a7f6-490d-82e3-4ec2ee31a35b",
   "metadata": {},
   "source": [
    "# Total Sales by City"
   ]
  },
  {
   "cell_type": "code",
   "execution_count": 23,
   "id": "13747820-b14a-47b1-bb21-a92ddff6d64a",
   "metadata": {},
   "outputs": [
    {
     "name": "stdout",
     "output_type": "stream",
     "text": [
      "City\n",
      " San Francisco    8262203.91\n",
      " Los Angeles      5452570.80\n",
      " New York City    4664317.43\n",
      " Boston           3661642.01\n",
      " Atlanta          2795498.58\n",
      " Dallas           2767975.40\n",
      " Seattle          2747755.48\n",
      " Portland         2320490.61\n",
      " Austin           1819581.75\n",
      "Name: Sales, dtype: float64\n"
     ]
    }
   ],
   "source": [
    "# Total sales by city\n",
    "total_sales_by_city = sales_data.groupby('City')['Sales'].sum().sort_values(ascending=False)\n",
    "print(total_sales_by_city.head(10))"
   ]
  },
  {
   "cell_type": "markdown",
   "id": "0844b9f7-cad9-49ad-813e-b662af1faddd",
   "metadata": {},
   "source": [
    "# Total sales by product"
   ]
  },
  {
   "cell_type": "code",
   "execution_count": null,
   "id": "8148f6dc-e772-43e4-8c47-104427b69c7a",
   "metadata": {},
   "outputs": [],
   "source": [
    "# Total sales by product\n",
    "total_sales_by_product = sales_data.groupby('Product')['Sales'].sum().sort_values(ascending=False)\n",
    "print(total_sales_by_product.head(10))"
   ]
  },
  {
   "cell_type": "markdown",
   "id": "4efabe0c-34b2-4858-85c5-71cc0fb3c484",
   "metadata": {},
   "source": [
    "# Top 10 Orders by Sales Value"
   ]
  },
  {
   "cell_type": "code",
   "execution_count": 24,
   "id": "4116537e-a8fe-4920-8d8a-1d779b6f8428",
   "metadata": {},
   "outputs": [
    {
     "name": "stdout",
     "output_type": "stream",
     "text": [
      "        Unnamed: 0  Order ID             Product  Quantity Ordered  \\\n",
      "29683         4717    181069  Macbook Pro Laptop                 2   \n",
      "172777         385    210292  Macbook Pro Laptop                 2   \n",
      "89114         6776    200528  Macbook Pro Laptop                 2   \n",
      "30183         5219    181544  Macbook Pro Laptop                 2   \n",
      "136628       20213    278637     ThinkPad Laptop                 2   \n",
      "145546        8791    149611     ThinkPad Laptop                 2   \n",
      "67218        12012    173477  Macbook Pro Laptop                 1   \n",
      "67070        11863    173337  Macbook Pro Laptop                 1   \n",
      "67163        11957    173425  Macbook Pro Laptop                 1   \n",
      "67165        11959    173427  Macbook Pro Laptop                 1   \n",
      "\n",
      "        Price Each           Order Date  \\\n",
      "29683      1700.00  2019-04-27 21:01:00   \n",
      "172777     1700.00  2019-06-08 09:00:00   \n",
      "89114      1700.00  2019-05-13 13:40:00   \n",
      "30183      1700.00  2019-04-22 12:48:00   \n",
      "136628      999.99  2019-10-02 16:06:00   \n",
      "145546      999.99  2019-01-31 17:47:00   \n",
      "67218      1700.00  2019-03-15 19:23:00   \n",
      "67070      1700.00  2019-03-24 14:14:00   \n",
      "67163      1700.00  2019-03-02 08:03:00   \n",
      "67165      1700.00  2019-03-13 16:33:00   \n",
      "\n",
      "                             Purchase Address  Month    Sales            City  \\\n",
      "29683    668 Park St, San Francisco, CA 94016      4  3400.00   San Francisco   \n",
      "172777  953 Ridge St, San Francisco, CA 94016      6  3400.00   San Francisco   \n",
      "89114            643 4th St, Boston, MA 02215      5  3400.00          Boston   \n",
      "30183    731 11th St, New York City, NY 10001      4  3400.00   New York City   \n",
      "136628         643 Cedar St, Boston, MA 02215     10  1999.98          Boston   \n",
      "145546    850 6th St, New York City, NY 10001      1  1999.98   New York City   \n",
      "67218           262 2nd St, Atlanta, GA 30301      3  1700.00         Atlanta   \n",
      "67070     749 6th St, New York City, NY 10001      3  1700.00   New York City   \n",
      "67163        123 Madison St, Dallas, TX 75001      3  1700.00          Dallas   \n",
      "67165      654 Hill St, Los Angeles, CA 90001      3  1700.00     Los Angeles   \n",
      "\n",
      "        Hour  \n",
      "29683     21  \n",
      "172777     9  \n",
      "89114     13  \n",
      "30183     12  \n",
      "136628    16  \n",
      "145546    17  \n",
      "67218     19  \n",
      "67070     14  \n",
      "67163      8  \n",
      "67165     16  \n"
     ]
    }
   ],
   "source": [
    "# Top 10 orders by sales value\n",
    "top_orders = sales_data.sort_values(by='Sales', ascending=False).head(10)\n",
    "print(top_orders)"
   ]
  },
  {
   "cell_type": "markdown",
   "id": "429ab5c0-8e4c-4110-983b-6b248af21bd7",
   "metadata": {},
   "source": [
    "# Monthly Sales Trends"
   ]
  },
  {
   "cell_type": "code",
   "execution_count": 25,
   "id": "65a09d5a-3028-462f-bc45-443ab03c1723",
   "metadata": {},
   "outputs": [
    {
     "name": "stdout",
     "output_type": "stream",
     "text": [
      "Month\n",
      "1     1822256.73\n",
      "2     2202022.42\n",
      "3     2807100.38\n",
      "4     3390670.24\n",
      "5     3152606.75\n",
      "6     2577802.26\n",
      "7     2647775.76\n",
      "8     2244467.88\n",
      "9     2097560.13\n",
      "10    3736726.88\n",
      "11    3199603.20\n",
      "12    4613443.34\n",
      "Name: Sales, dtype: float64\n"
     ]
    }
   ],
   "source": [
    "# Monthly sales trends\n",
    "monthly_sales_trends = sales_data.groupby('Month')['Sales'].sum()\n",
    "print(monthly_sales_trends)"
   ]
  },
  {
   "cell_type": "markdown",
   "id": "668a0c1e-837a-42ff-8893-ea7179e104a4",
   "metadata": {},
   "source": [
    "# Sales Contribution by Product"
   ]
  },
  {
   "cell_type": "code",
   "execution_count": 26,
   "id": "cb783c35-afdd-4c44-bc63-b47ed8a95395",
   "metadata": {},
   "outputs": [
    {
     "name": "stdout",
     "output_type": "stream",
     "text": [
      "Sales Contribution by Product:\n",
      "Product\n",
      "Macbook Pro Laptop            23.302771\n",
      "iPhone                        13.899730\n",
      "ThinkPad Laptop               11.973659\n",
      "Google Phone                   9.623091\n",
      "27in 4K Gaming Monitor         7.059884\n",
      "34in Ultrawide Monitor         6.829281\n",
      "Apple Airpods Headphones       6.810703\n",
      "Flatscreen TV                  4.191402\n",
      "Bose SoundSport Headphones     3.901090\n",
      "27in FHD Monitor               3.283148\n",
      "Name: Sales Contribution (%), dtype: float64\n"
     ]
    }
   ],
   "source": [
    "# Calculate total sales\n",
    "total_sales = sales_data['Sales'].sum()\n",
    "\n",
    "# Calculate sales contribution by product\n",
    "sales_data['Sales Contribution (%)'] = (sales_data['Sales'] / total_sales) * 100\n",
    "\n",
    "# Aggregate sales contribution by product\n",
    "sales_contribution_by_product = sales_data.groupby('Product')['Sales Contribution (%)'].sum().sort_values(ascending=False)\n",
    "print(\"Sales Contribution by Product:\")\n",
    "print(sales_contribution_by_product.head(10))\n"
   ]
  },
  {
   "cell_type": "markdown",
   "id": "e6058135-5fb9-4da5-8203-6cd4dec328d5",
   "metadata": {},
   "source": [
    "# Sales and Quantity Ordered by Month and Product"
   ]
  },
  {
   "cell_type": "code",
   "execution_count": 27,
   "id": "c6f2e55d-1ee4-4dea-b0ae-59e5e7cf345d",
   "metadata": {},
   "outputs": [
    {
     "name": "stdout",
     "output_type": "stream",
     "text": [
      "Monthly Sales and Quantity Ordered by Product:\n",
      "        Quantity Ordered                                          \\\n",
      "Product     20in Monitor 27in 4K Gaming Monitor 27in FHD Monitor   \n",
      "Month                                                              \n",
      "1                    218                    313              422   \n",
      "2                    246                    427              475   \n",
      "3                    326                    479              608   \n",
      "4                    393                    566              736   \n",
      "5                    341                    542              689   \n",
      "6                    322                    451              567   \n",
      "7                    327                    483              607   \n",
      "8                    261                    440              491   \n",
      "9                    277                    381              483   \n",
      "10                   429                    723              791   \n",
      "11                   420                    575              719   \n",
      "12                   569                    864              962   \n",
      "\n",
      "                                                                             \\\n",
      "Product 34in Ultrawide Monitor AA Batteries (4-pack) AAA Batteries (4-pack)   \n",
      "Month                                                                         \n",
      "1                          314                  1424                   1600   \n",
      "2                          418                  1735                   1972   \n",
      "3                          522                  2216                   2479   \n",
      "4                          654                  2821                   2939   \n",
      "5                          544                  2384                   2927   \n",
      "6                          455                  2096                   2162   \n",
      "7                          462                  2071                   2365   \n",
      "8                          380                  1828                   2021   \n",
      "9                          379                  1771                   1923   \n",
      "10                         671                  2940                   3363   \n",
      "11                         551                  2625                   3025   \n",
      "12                         849                  3724                   4241   \n",
      "\n",
      "                                                                           \\\n",
      "Product Apple Airpods Headphones Bose SoundSport Headphones Flatscreen TV   \n",
      "Month                                                                       \n",
      "1                            818                        662           244   \n",
      "2                           1012                        841           313   \n",
      "3                           1322                       1198           362   \n",
      "4                           1519                       1287           460   \n",
      "5                           1365                       1176           399   \n",
      "6                           1167                        983           367   \n",
      "7                           1220                       1060           399   \n",
      "8                           1009                        881           331   \n",
      "9                            969                        828           294   \n",
      "10                          1671                       1465           524   \n",
      "11                          1513                       1252           460   \n",
      "12                          2076                       1824           666   \n",
      "\n",
      "                      ...        Sales                              \\\n",
      "Product Google Phone  ... Google Phone LG Dryer LG Washing Machine   \n",
      "Month                 ...                                            \n",
      "1                319  ...     191400.0  23400.0            25200.0   \n",
      "2                381  ...     228600.0  22800.0            24000.0   \n",
      "3                463  ...     277800.0  29400.0            38400.0   \n",
      "4                580  ...     348000.0  46800.0            36600.0   \n",
      "5                480  ...     288000.0  45600.0            38400.0   \n",
      "6                391  ...     234600.0  25800.0            33000.0   \n",
      "7                411  ...     246600.0  33000.0            31200.0   \n",
      "8                361  ...     216600.0  27600.0            28800.0   \n",
      "9                341  ...     204600.0  18000.0            27600.0   \n",
      "10               597  ...     358200.0  30000.0            36600.0   \n",
      "11               493  ...     295800.0  33600.0            31800.0   \n",
      "12               715  ...     429000.0  51600.0            48000.0   \n",
      "\n",
      "                                                                     \\\n",
      "Product Lightning Charging Cable Macbook Pro Laptop ThinkPad Laptop   \n",
      "Month                                                                 \n",
      "1                       17267.25           399500.0       218997.81   \n",
      "2                       22410.05           469200.0       274997.25   \n",
      "3                       28001.35           644300.0       344996.55   \n",
      "4                       35476.35           771800.0       389996.10   \n",
      "5                       31021.25           790500.0       370996.29   \n",
      "6                       25220.65           605200.0       313996.86   \n",
      "7                       27074.45           625600.0       318996.81   \n",
      "8                       21572.85           508300.0       273997.26   \n",
      "9                       21408.40           489600.0       248997.51   \n",
      "10                      38451.40           892500.0       460995.39   \n",
      "11                      33039.50           748000.0       373996.26   \n",
      "12                      46150.65          1093100.0       538994.61   \n",
      "\n",
      "                                                                         \n",
      "Product USB-C Charging Cable Vareebadd Phone Wired Headphones    iPhone  \n",
      "Month                                                                    \n",
      "1                   15379.65         50400.0         13009.15  266700.0  \n",
      "2                   19765.30         51600.0         15335.21  307300.0  \n",
      "3                   23230.80         69600.0         19951.36  376600.0  \n",
      "4                   27114.55         88000.0         24759.35  485100.0  \n",
      "5                   24712.60         74000.0         22493.24  448000.0  \n",
      "6                   20016.25         62000.0         17673.26  373100.0  \n",
      "7                   22095.55         58400.0         18764.35  351400.0  \n",
      "8                   17470.90         57200.0         15479.09  307300.0  \n",
      "9                   19048.30         50400.0         15598.99  277900.0  \n",
      "10                  31870.65         81200.0         27265.26  501200.0  \n",
      "11                  26959.20         70800.0         23188.66  465500.0  \n",
      "12                  38837.50        113600.0         32960.51  634200.0  \n",
      "\n",
      "[12 rows x 38 columns]\n"
     ]
    }
   ],
   "source": [
    "# Pivot table for monthly sales and quantity ordered by product\n",
    "pivot_table = sales_data.pivot_table(index='Month', columns='Product', values=['Sales', 'Quantity Ordered'], aggfunc='sum')\n",
    "print(\"Monthly Sales and Quantity Ordered by Product:\")\n",
    "print(pivot_table.head(12))"
   ]
  },
  {
   "cell_type": "markdown",
   "id": "eaa49a28-ee2f-47da-a4b1-041075bdd93b",
   "metadata": {},
   "source": [
    "# Top 5 Products in Each City"
   ]
  },
  {
   "cell_type": "code",
   "execution_count": 28,
   "id": "fa6ae465-e989-4330-88d8-2e596cd43b61",
   "metadata": {},
   "outputs": [
    {
     "name": "stdout",
     "output_type": "stream",
     "text": [
      "Top 5 Products in Each City:\n",
      "                                              Sales\n",
      "City           Product                             \n",
      " Seattle       Macbook Pro Laptop         605200.00\n",
      "               iPhone                     382200.00\n",
      "               ThinkPad Laptop            332996.67\n",
      "               Google Phone               260400.00\n",
      "               27in 4K Gaming Monitor     209814.62\n",
      " San Francisco Macbook Pro Laptop        1931200.00\n",
      "               iPhone                    1162700.00\n",
      "               ThinkPad Laptop            962990.37\n",
      "               Google Phone               814800.00\n",
      "               27in 4K Gaming Monitor     569385.40\n",
      " Portland      Macbook Pro Laptop         572900.00\n",
      "               iPhone                     315000.00\n",
      "               ThinkPad Laptop            273997.26\n",
      "               Google Phone               213000.00\n",
      "               27in 4K Gaming Monitor     169255.66\n",
      " New York City Macbook Pro Laptop        1116900.00\n",
      "               iPhone                     616700.00\n",
      "               ThinkPad Laptop            559994.40\n",
      "               Google Phone               454800.00\n",
      "               34in Ultrawide Monitor     329831.32\n",
      " Los Angeles   Macbook Pro Laptop        1276700.00\n",
      "               iPhone                     782600.00\n",
      "               ThinkPad Laptop            640993.59\n",
      "               Google Phone               508800.00\n",
      "               27in 4K Gaming Monitor     391159.97\n",
      " Dallas        Macbook Pro Laptop         649400.00\n",
      "               iPhone                     363300.00\n",
      "               ThinkPad Laptop            344996.55\n",
      "               Google Phone               276600.00\n",
      "               34in Ultrawide Monitor     194554.88\n",
      " Boston        Macbook Pro Laptop         814300.00\n",
      "               iPhone                     527100.00\n",
      "               ThinkPad Laptop            446995.53\n",
      "               Google Phone               355800.00\n",
      "               27in 4K Gaming Monitor     263243.25\n",
      " Austin        Macbook Pro Laptop         426700.00\n",
      "               iPhone                     263900.00\n",
      "               ThinkPad Laptop            209997.90\n",
      "               Google Phone               164400.00\n",
      "               Apple Airpods Headphones   133050.00\n",
      " Atlanta       Macbook Pro Laptop         644300.00\n",
      "               iPhone                     380800.00\n",
      "               ThinkPad Laptop            356996.43\n",
      "               Google Phone               270600.00\n",
      "               27in 4K Gaming Monitor     192265.07\n"
     ]
    }
   ],
   "source": [
    "# Top 5 products in each city\n",
    "top_products_by_city = sales_data.groupby(['City', 'Product']).agg({'Sales': 'sum'}).sort_values(['City', 'Sales'], ascending=False).groupby(level=0).head(5)\n",
    "print(\"Top 5 Products in Each City:\")\n",
    "print(top_products_by_city)"
   ]
  },
  {
   "cell_type": "markdown",
   "id": "a22465de-dd20-4e09-8cfb-6a55dc3e8c7a",
   "metadata": {},
   "source": [
    "# Correlation Analysis"
   ]
  },
  {
   "cell_type": "code",
   "execution_count": 29,
   "id": "45d340f5-e7bf-4cf8-84e2-82a3dc53a111",
   "metadata": {},
   "outputs": [
    {
     "name": "stdout",
     "output_type": "stream",
     "text": [
      "Correlation Matrix:\n",
      "                  Quantity Ordered  Price Each     Sales\n",
      "Quantity Ordered          1.000000   -0.148272 -0.139417\n",
      "Price Each               -0.148272    1.000000  0.999203\n",
      "Sales                    -0.139417    0.999203  1.000000\n"
     ]
    }
   ],
   "source": [
    "# Correlation matrix\n",
    "correlation_matrix = sales_data[['Quantity Ordered', 'Price Each', 'Sales']].corr()\n",
    "print(\"Correlation Matrix:\")\n",
    "print(correlation_matrix)"
   ]
  },
  {
   "cell_type": "markdown",
   "id": "aa6ae2bf-07f8-4a04-981d-401471fab518",
   "metadata": {},
   "source": [
    "#  total sales for each month"
   ]
  },
  {
   "cell_type": "code",
   "execution_count": 30,
   "id": "323afe2b-528f-4c63-90ae-79c87074823d",
   "metadata": {},
   "outputs": [
    {
     "data": {
      "image/png": "[encoded data removed]",
      "text/plain": [
       "<Figure size 1000x600 with 1 Axes>"
      ]
     },
     "metadata": {},
     "output_type": "display_data"
    }
   ],
   "source": [
    "import matplotlib.pyplot as plt\n",
    "\n",
    "# Convert 'Order Date' to datetime format\n",
    "sales_data['Order Date'] = pd.to_datetime(sales_data['Order Date'])\n",
    "\n",
    "# Aggregate sales data by month\n",
    "monthly_sales = sales_data.groupby('Month')['Sales'].sum()\n",
    "\n",
    "# Plot monthly sales trends\n",
    "plt.figure(figsize=(10, 6))\n",
    "monthly_sales.plot(kind='bar', color='skyblue')\n",
    "plt.title('Monthly Sales Trends')\n",
    "plt.xlabel('Month')\n",
    "plt.ylabel('Total Sales ($)')\n",
    "plt.xticks(rotation=0)\n",
    "plt.show()\n"
   ]
  },
  {
   "cell_type": "markdown",
   "id": "3ca0ecda-a144-4d19-8373-e3ea9b5a1a99",
   "metadata": {},
   "source": [
    "# The top 10 best-selling products"
   ]
  },
  {
   "cell_type": "code",
   "execution_count": 31,
   "id": "8f292e62-a79c-43d7-b780-399b10209929",
   "metadata": {},
   "outputs": [
    {
     "data": {
      "image/png": "[encoded data removed]",
      "text/plain": [
       "<Figure size 1200x800 with 1 Axes>"
      ]
     },
     "metadata": {},
     "output_type": "display_data"
    }
   ],
   "source": [
    "# Aggregate sales data by product\n",
    "product_sales = sales_data.groupby('Product')['Sales'].sum().sort_values(ascending=False)\n",
    "\n",
    "# Plot top-selling products\n",
    "plt.figure(figsize=(12, 8))\n",
    "product_sales.head(10).plot(kind='bar', color='orange')\n",
    "plt.title('Top 10 Best-Selling Products')\n",
    "plt.xlabel('Product')\n",
    "plt.ylabel('Total Sales ($)')\n",
    "plt.xticks(rotation=45, ha='right')\n",
    "plt.show()"
   ]
  },
  {
   "cell_type": "markdown",
   "id": "7414ac00-5b57-4a2b-ab44-f3c458af000e",
   "metadata": {},
   "source": [
    "calculating total sales and assuming a hypothetical profit margin of 20% to compute profit margins for each product. ​"
   ]
  },
  {
   "cell_type": "code",
   "execution_count": 32,
   "id": "91cb9084-266c-44a1-a3de-9cf542829ea2",
   "metadata": {},
   "outputs": [
    {
     "data": {
      "text/plain": [
       "(34492035.97,\n",
       " Product\n",
       " Macbook Pro Laptop            1607520.000\n",
       " iPhone                         958860.000\n",
       " ThinkPad Laptop                825991.740\n",
       " Google Phone                   663840.000\n",
       " 27in 4K Gaming Monitor         487019.512\n",
       " 34in Ultrawide Monitor         471111.602\n",
       " Apple Airpods Headphones       469830.000\n",
       " Flatscreen TV                  289140.000\n",
       " Bose SoundSport Headphones     269113.086\n",
       " 27in FHD Monitor               226484.900\n",
       " Name: Profit, dtype: float64)"
      ]
     },
     "execution_count": 32,
     "metadata": {},
     "output_type": "execute_result"
    }
   ],
   "source": [
    "# Assume a hypothetical profit margin of 20%\n",
    "profit_margin_percentage = 0.20\n",
    "\n",
    "# Calculate total sales\n",
    "total_sales = sales_data['Sales'].sum()\n",
    "\n",
    "# Calculate profit margins for each product\n",
    "sales_data['Profit'] = sales_data['Sales'] * profit_margin_percentage\n",
    "\n",
    "# Aggregate profit data by product\n",
    "product_profit = sales_data.groupby('Product')['Profit'].sum().sort_values(ascending=False)\n",
    "\n",
    "# Display total sales and top 10 products by profit\n",
    "total_sales, product_profit.head(10)\n"
   ]
  },
  {
   "cell_type": "code",
   "execution_count": null,
   "id": "18dbb2bf-d078-42a3-a748-d38d4fab3f96",
   "metadata": {},
   "outputs": [],
   "source": []
  }
 ],
 "metadata": {
  "kernelspec": {
   "display_name": "Python 3 (ipykernel)",
   "language": "python",
   "name": "python3"
  },
  "language_info": {
   "codemirror_mode": {
    "name": "ipython",
    "version": 3
   },
   "file_extension": ".py",
   "mimetype": "text/x-python",
   "name": "python",
   "nbconvert_exporter": "python",
   "pygments_lexer": "ipython3",
   "version": "3.11.7"
  }
 },
 "nbformat": 4,
 "nbformat_minor": 5
}
